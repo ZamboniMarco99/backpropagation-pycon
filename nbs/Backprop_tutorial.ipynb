{
 "cells": [
  {
   "cell_type": "code",
   "execution_count": null,
   "id": "b5b86c27-2b5b-45a8-b64e-38307803a162",
   "metadata": {},
   "outputs": [],
   "source": [
    "from abc import ABC, abstractmethod\n",
    "import math\n",
    "from queue import Queue\n",
    "from collections import defaultdict\n",
    "import itertools\n",
    "\n",
    "from utils.parser import parse_expression"
   ]
  },
  {
   "cell_type": "markdown",
   "id": "bf02afcb-8b83-424f-a0e6-08ba1913402d",
   "metadata": {},
   "source": [
    "# Operations"
   ]
  },
  {
   "cell_type": "code",
   "execution_count": null,
   "id": "b374c153-709c-4079-9bdb-3f580e1cc031",
   "metadata": {},
   "outputs": [],
   "source": [
    "class Operator(ABC):\n",
    "    @abstractmethod\n",
    "    def f(self, x, y=None) -> float:\n",
    "        \"\"\"\n",
    "        Evaluation of the function at (x, y)\n",
    "        \"\"\"\n",
    "        raise NotImplementedError()\n",
    "        return 0.0\n",
    "\n",
    "    @abstractmethod\n",
    "    def df(self, x, y=None) -> list:\n",
    "        \"\"\"\n",
    "        Evaluation of the gradient of the function at (x, y)\n",
    "        \"\"\"\n",
    "        raise NotImplementedError()\n",
    "        return [0.0]"
   ]
  },
  {
   "cell_type": "code",
   "execution_count": null,
   "id": "505ba1cf-cde5-44ab-b673-7adf97889ae0",
   "metadata": {},
   "outputs": [],
   "source": [
    "class Add(Operator):\n",
    "    def f(self, x: float, y: float) -> float:\n",
    "        return x + y\n",
    "\n",
    "    def df(self, x: float, y: float) -> list[float, float]:\n",
    "        return [1, 1]\n",
    "\n",
    "\n",
    "class Sub(Operator):\n",
    "    def f(self, x: float, y: float) -> float:\n",
    "        ...\n",
    "\n",
    "    def df(self, x: float, y: float) -> list[float, float]:\n",
    "        ...\n",
    "\n",
    "\n",
    "class Mul(Operator):\n",
    "    def f(self, x: float, y: float) -> float:\n",
    "        ...\n",
    "\n",
    "    def df(self, x: float, y: float) -> list[float, float]:\n",
    "        ...\n",
    "\n",
    "\n",
    "class Div(Operator):\n",
    "    def f(self, x: float, y: float) -> float:\n",
    "        ...\n",
    "\n",
    "    def df(self, x: float, y: float) -> list[float, float]:\n",
    "        ...\n",
    "\n",
    "\n",
    "class Pow(Operator):\n",
    "    def f(self, x, y):\n",
    "        return x**y\n",
    "\n",
    "    def df(self, x, y):\n",
    "        if x <= 0:  ## Can't take df/dy if x is negative\n",
    "            return [y * (x ** (y - 1))]\n",
    "        else:\n",
    "            return [y * (x ** (y - 1)), (x**y) * math.log(x)]\n",
    "\n",
    "\n",
    "class Exp(Operator):\n",
    "    def f(self, x: float, y: float = None) -> float:\n",
    "        ...\n",
    "\n",
    "    def df(self, x: float, y: float = None) -> list[float]:\n",
    "        ...\n",
    "\n",
    "\n",
    "class Log(Operator):\n",
    "    def f(self, x: float, y: float = None) -> float:\n",
    "        ...\n",
    "\n",
    "    def df(self, x: float = None) -> list[float]:\n",
    "        ..."
   ]
  },
  {
   "cell_type": "markdown",
   "id": "585743fa-9283-4e0f-9106-85a00a1b40a1",
   "metadata": {},
   "source": [
    "# Computational graph"
   ]
  },
  {
   "cell_type": "code",
   "execution_count": null,
   "id": "86464be8-c7a5-485e-8a40-a1242d03a3cf",
   "metadata": {},
   "outputs": [],
   "source": [
    "class Node:\n",
    "    def __init__(self, id: str):\n",
    "        self.id = id\n",
    "        self.value = None\n",
    "        self.inputs = []\n",
    "        self.outputs = []\n",
    "\n",
    "    def __str__(self):\n",
    "        return f\"(value = {self.value}, id = {self.id}, in_nodes: {str([str(in_node) for in_node in self.inputs])})\"\n",
    "\n",
    "    def __repr__(self):\n",
    "        return self.__str__()\n",
    "\n",
    "\n",
    "class SymbolNode(Node):\n",
    "    def __init__(self, id: str):\n",
    "        super().__init__(id)\n",
    "\n",
    "\n",
    "class ValueNode(Node):\n",
    "    def __init__(self, id: str, value):\n",
    "        super().__init__(id)\n",
    "        self.value = value\n",
    "\n",
    "\n",
    "class OperandNode(Node):\n",
    "    def __init__(self, id: str, operand, inputs: list):\n",
    "        super().__init__(id)\n",
    "        self.operand = operand\n",
    "        self.inputs = inputs\n",
    "\n",
    "    def __str__(self):\n",
    "        return f\"(operand = {self.operand}, \" + super().__str__()[1:]\n",
    "\n",
    "\n",
    "class Graph:\n",
    "    def build_graph(self, infix: list, params: set, variables: set):\n",
    "        ...\n",
    "\n",
    "    def __init__(self, infix: list, params: list, variables: list):\n",
    "        # Create the nodes for the params and the variables\n",
    "        self.params = params\n",
    "        self.param_nodes = {}\n",
    "        self.var_nodes = {}\n",
    "        for param in params:\n",
    "            self.param_nodes[param] = SymbolNode(param)\n",
    "        for var in variables:\n",
    "            self.var_nodes[var] = SymbolNode(var)\n",
    "        self.id_generator = map(str, itertools.count(0))\n",
    "        self.out_node = self.build_graph(infix, set(params), set(variables))\n",
    "\n",
    "    def __str__(self):\n",
    "        return str(self.out_node)\n",
    "\n",
    "    def __repr__(self):\n",
    "        return self.__str__()"
   ]
  },
  {
   "cell_type": "markdown",
   "id": "f47aef9f-be96-4035-a81c-11048d6c4241",
   "metadata": {},
   "source": [
    "## Test Computational graph"
   ]
  },
  {
   "cell_type": "code",
   "execution_count": null,
   "id": "bb6d6a3a-85c7-4e82-bf65-951594118519",
   "metadata": {},
   "outputs": [],
   "source": [
    "expressions = [\"exp(y) - (x * 2)\", \"log(x) / x + y\", \"1 + 1\"]\n",
    "expected_graphs = [\n",
    "    \"\"\"(operand = -, value = None, id = 0, in_nodes: [\"(operand = exp, value = None, id = 1, in_nodes: ['(value = None, id = y, in_nodes: [])'])\", \"(operand = *, value = None, id = 2, in_nodes: ['(value = None, id = x, in_nodes: [])', '(value = 2, id = 3, in_nodes: [])'])\"])\"\"\",\n",
    "    r\"\"\"(operand = +, value = None, id = 0, in_nodes: ['(operand = /, value = None, id = 1, in_nodes: [\"(operand = log, value = None, id = 2, in_nodes: [\\'(value = None, id = x, in_nodes: [])\\'])\", \\'(value = None, id = x, in_nodes: [])\\'])', '(value = None, id = y, in_nodes: [])'])\"\"\",\n",
    "    \"\"\"(operand = +, value = None, id = 0, in_nodes: ['(value = 1, id = 1, in_nodes: [])', '(value = 1, id = 2, in_nodes: [])'])\"\"\",\n",
    "]\n",
    "for expression, expected_g in zip(expressions, expected_graphs):\n",
    "    infix = parse_expression(expression)\n",
    "    g = Graph(infix, params=[\"y\"], variables=[\"x\"])\n",
    "    assert str(g) == expected_g"
   ]
  },
  {
   "cell_type": "code",
   "execution_count": null,
   "id": "e5a09898-679a-4b64-abb5-ec656f1db513",
   "metadata": {},
   "outputs": [],
   "source": [
    "g = Graph(parse_expression(\"1 + 1\"), params=[\"y\"], variables=[\"x\"])\n",
    "print(g)"
   ]
  },
  {
   "cell_type": "markdown",
   "id": "0f145cc1-2fce-4813-9a9d-06ef08ec5197",
   "metadata": {},
   "source": [
    "# Evaluate function and gradient"
   ]
  },
  {
   "cell_type": "code",
   "execution_count": null,
   "id": "e38bdcbc-2c34-402d-a24c-379894db84dd",
   "metadata": {},
   "outputs": [],
   "source": [
    "class Model:\n",
    "    def __init__(self, graph: Graph, init_params: dict = None):\n",
    "        self.graph = graph\n",
    "        self.map_operands = {\n",
    "            \"+\": Add(),\n",
    "            \"-\": Sub(),\n",
    "            \"*\": Mul(),\n",
    "            \"/\": Div(),\n",
    "            \"^\": Pow(),\n",
    "            \"exp\": Exp(),\n",
    "            \"log\": Log(),\n",
    "        }\n",
    "        self.param_values = {param_id: 20.0 for param_id in graph.param_nodes}\n",
    "        self.derivatives = defaultdict(int)\n",
    "\n",
    "    def resolve_forward(self, node: Node, var_values: dict):\n",
    "        ...\n",
    "\n",
    "    def forward(self, var_values: dict):\n",
    "        return self.resolve_forward(self.graph.out_node, var_values)\n",
    "\n",
    "    def resolve_backward(self):\n",
    "        ...\n",
    "\n",
    "    def backward(self):\n",
    "        self.resolve_backward()\n",
    "\n",
    "    def optimize_step(self, lr=0.1):\n",
    "        ...\n",
    "        # Reset derivatives for next iteration\n",
    "        self.derivatives = defaultdict(int)"
   ]
  },
  {
   "cell_type": "markdown",
   "id": "183409dc-652d-4e36-93ec-4879d3bfa206",
   "metadata": {},
   "source": [
    "# Training with Gradient descent"
   ]
  },
  {
   "cell_type": "code",
   "execution_count": null,
   "id": "05b30241-55d7-4167-bf6c-119ead8b1d35",
   "metadata": {},
   "outputs": [],
   "source": [
    "def train(num_epochs, model):\n",
    "    ..."
   ]
  },
  {
   "cell_type": "code",
   "execution_count": null,
   "id": "0fe11d80-c3b4-45c0-b0d1-57a720ab602e",
   "metadata": {},
   "outputs": [],
   "source": []
  },
  {
   "cell_type": "code",
   "execution_count": null,
   "id": "d2bdb4fa-2a8e-4da5-b11e-ef59a9e84e19",
   "metadata": {},
   "outputs": [],
   "source": []
  }
 ],
 "metadata": {
  "kernelspec": {
   "display_name": "python3",
   "language": "python",
   "name": "python3"
  }
 },
 "nbformat": 4,
 "nbformat_minor": 5
}
