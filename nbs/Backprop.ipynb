{
 "cells": [
  {
   "cell_type": "code",
   "execution_count": null,
   "id": "b5b86c27-2b5b-45a8-b64e-38307803a162",
   "metadata": {},
   "outputs": [],
   "source": [
    "from abc import ABC, abstractmethod\n",
    "import math"
   ]
  },
  {
   "cell_type": "markdown",
   "id": "bf02afcb-8b83-424f-a0e6-08ba1913402d",
   "metadata": {},
   "source": [
    "# Operations"
   ]
  },
  {
   "cell_type": "code",
   "execution_count": null,
   "id": "b374c153-709c-4079-9bdb-3f580e1cc031",
   "metadata": {},
   "outputs": [],
   "source": [
    "class Operator(ABC):\n",
    "    @abstractmethod\n",
    "    def f(self, x, y=None) -> float:\n",
    "        \"\"\"\n",
    "        Evaluation of the function at (x, y)\n",
    "        \"\"\"\n",
    "        raise NotImplementedError()\n",
    "        return 0.0\n",
    "\n",
    "    @abstractmethod\n",
    "    def df(self, x, y=None) -> list:\n",
    "        \"\"\"\n",
    "        Evaluation of the gradient of the function at (x, y)\n",
    "        \"\"\"\n",
    "        raise NotImplementedError()\n",
    "        return [0.0]"
   ]
  },
  {
   "cell_type": "code",
   "execution_count": null,
   "id": "505ba1cf-cde5-44ab-b673-7adf97889ae0",
   "metadata": {},
   "outputs": [],
   "source": [
    "class Add(Operator):\n",
    "    def f(self, x: float, b: float) -> float:\n",
    "        return x + b\n",
    "\n",
    "    def df(self, x: float, b: float) -> list[float, float]:\n",
    "        return [1, 1]\n",
    "\n",
    "\n",
    "class Sub(Operator):\n",
    "    def f(self, x: float, y: float) -> float:\n",
    "        return x - b\n",
    "\n",
    "    def df(self, x: float, y: float) -> list[float, float]:\n",
    "        return [1, -1]\n",
    "\n",
    "\n",
    "class Mul(Operator):\n",
    "    def f(self, x: float, y: float) -> float:\n",
    "        return x * y\n",
    "\n",
    "    def df(self, x: float, y: float) -> list[float, float]:\n",
    "        return [y, x]\n",
    "\n",
    "\n",
    "class Div(Operator):\n",
    "    def f(self, x: float, y: float) -> float:\n",
    "        return x / y\n",
    "\n",
    "    def df(self, x: float, y: float) -> list[float, float]:\n",
    "        return [1 / b, -x / (y**2)]\n",
    "\n",
    "\n",
    "def Exp(Operator):\n",
    "    def f(self, x: float, y: float = None) -> float:\n",
    "        return math.exp(x)\n",
    "\n",
    "    def df(self, x: float, y: float = None) -> list[float]:\n",
    "        return [math.exp(x)]\n",
    "\n",
    "\n",
    "def Log(Operator):\n",
    "    def f(self, x: float, y: float = None) -> float:\n",
    "        return math.log(x)\n",
    "\n",
    "    def df(self, x: float = None) -> list[float]:\n",
    "        return [1 / x]"
   ]
  }
 ],
 "metadata": {
  "kernelspec": {
   "display_name": "python3",
   "language": "python",
   "name": "python3"
  }
 },
 "nbformat": 4,
 "nbformat_minor": 5
}
